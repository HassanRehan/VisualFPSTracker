{
 "cells": [
  {
   "cell_type": "code",
   "execution_count": null,
   "metadata": {},
   "outputs": [],
   "source": [
    "# import base64\n",
    "# i = base64.b64decode(\"IWdpdCBjbG9uZSBodHRwczovL2dpdGh1Yl9wYXRfMTFBS0VXUjNRME1idGR3UTh0ZEIxSF84bjZFcVV4Z0JsSllDNTZPRFNDWUxSRE5BM1A5MWpUUW5WSFFTQjY0MzdJTEhJR1BSQzNLQWh3YzM5RUBnaXRodWIuY29tL0hhc3NhblJlaGFuL1Zpc3VhbEZQU1RyYWNrZXIuZ2l0\").decode('utf-8')\n",
    "# print(i)"
   ]
  },
  {
   "cell_type": "code",
   "execution_count": null,
   "metadata": {},
   "outputs": [],
   "source": [
    "# !git clone i"
   ]
  },
  {
   "cell_type": "code",
   "execution_count": null,
   "metadata": {
    "colab": {
     "base_uri": "https://localhost:8080/"
    },
    "id": "X2HCuitxi8ZI",
    "outputId": "69695547-6017-4d1d-fa64-2d7f2abef23f"
   },
   "outputs": [],
   "source": [
    "\n",
    "# %pip install ultralytics\n",
    "%cd /content/VisualFPSTracker\n",
    "!unzip -n /content/VisualFPSTracker/CODPlayerDetectionDataset.zip"
   ]
  },
  {
   "cell_type": "code",
   "execution_count": null,
   "metadata": {
    "colab": {
     "base_uri": "https://localhost:8080/"
    },
    "id": "500ZcxWmitcK",
    "outputId": "f889a350-2dd5-4453-a4c1-b2fa7891f20a"
   },
   "outputs": [],
   "source": [
    "!nvidia-smi"
   ]
  },
  {
   "cell_type": "code",
   "execution_count": null,
   "metadata": {
    "colab": {
     "base_uri": "https://localhost:8080/"
    },
    "id": "xqS60UVQitcL",
    "outputId": "3da79a5f-11e4-41ab-cc29-604135706d1f"
   },
   "outputs": [],
   "source": [
    "import ultralytics\n",
    "ultralytics.checks()"
   ]
  },
  {
   "cell_type": "code",
   "execution_count": null,
   "metadata": {
    "colab": {
     "base_uri": "https://localhost:8080/"
    },
    "id": "HhqhsDKtitcL",
    "outputId": "75ed566e-59ba-438b-9eee-c0363deca521"
   },
   "outputs": [],
   "source": [
    "from ultralytics import YOLO\n",
    "\n",
    "# Load a model\n",
    "model = YOLO(\"yolov8n.yaml\")  # build a new model from YAML\n",
    "model = YOLO(\"yolov8n.pt\")  # load a pretrained model (recommended for training)\n",
    "model = YOLO(\"yolov8n.yaml\").load(\"yolov8n.pt\")  # build from YAML and transfer weights"
   ]
  },
  {
   "cell_type": "code",
   "execution_count": null,
   "metadata": {
    "colab": {
     "base_uri": "https://localhost:8080/"
    },
    "id": "Sho3A846itcL",
    "outputId": "5f079026-69a6-4ff4-d44d-c901dd18ec90"
   },
   "outputs": [],
   "source": [
    "# Train the model\n",
    "results = model.train(data=\"data.yaml\", epochs=60, verbose=True)"
   ]
  },
  {
   "cell_type": "code",
   "execution_count": null,
   "metadata": {
    "colab": {
     "base_uri": "https://localhost:8080/"
    },
    "id": "erJ97Ky-uQxI",
    "outputId": "eb6201cb-d3d4-4a46-e77c-c032d87b343a"
   },
   "outputs": [],
   "source": [
    "!zip -r /content/models.zip /content/VisualFPSTracker/runs/detect"
   ]
  },
  {
   "cell_type": "code",
   "execution_count": null,
   "metadata": {
    "colab": {
     "base_uri": "https://localhost:8080/"
    },
    "id": "IqIfDC5Dy7mc",
    "outputId": "89788009-c49b-4fe4-e4de-968e82291cc2"
   },
   "outputs": [],
   "source": [
    "!ls -l"
   ]
  },
  {
   "cell_type": "code",
   "execution_count": null,
   "metadata": {
    "id": "Kp7GKtm6zHwE"
   },
   "outputs": [],
   "source": []
  }
 ],
 "metadata": {
  "accelerator": "GPU",
  "colab": {
   "gpuType": "T4",
   "provenance": []
  },
  "kernelspec": {
   "display_name": "Python 3",
   "name": "python3"
  },
  "language_info": {
   "codemirror_mode": {
    "name": "ipython",
    "version": 3
   },
   "file_extension": ".py",
   "mimetype": "text/x-python",
   "name": "python",
   "nbconvert_exporter": "python",
   "pygments_lexer": "ipython3",
   "version": "3.11.9"
  }
 },
 "nbformat": 4,
 "nbformat_minor": 0
}
